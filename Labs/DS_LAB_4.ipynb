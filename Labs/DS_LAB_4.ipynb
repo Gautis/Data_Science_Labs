{
  "nbformat": 4,
  "nbformat_minor": 0,
  "metadata": {
    "colab": {
      "provenance": []
    },
    "kernelspec": {
      "name": "python3",
      "display_name": "Python 3"
    },
    "language_info": {
      "name": "python"
    }
  },
  "cells": [
    {
      "cell_type": "code",
      "execution_count": 9,
      "metadata": {
        "colab": {
          "base_uri": "https://localhost:8080/"
        },
        "id": "8I7vwJzcmdHb",
        "outputId": "e6164f23-463f-41a7-a4bb-3661d45a2c8c"
      },
      "outputs": [
        {
          "output_type": "stream",
          "name": "stdout",
          "text": [
            "entities extracted from the text: \n",
            "PERSON:John Doe\n",
            "DATE:age 45\n",
            "entities extracted from the text: \n",
            "PERSON:Jane Smith\n",
            "DATE:34 years old\n",
            "NORP:Insulin\n",
            "PERSON:Robert Johnson,50 years old\n",
            "PERSON:Inhaler\n",
            "PERSON:Mary Brown\n",
            "DATE:28\n",
            "PERSON:David White\n",
            "DATE:60\n",
            "ORG:Chemotherapy for Cancer\n"
          ]
        }
      ],
      "source": [
        "import spacy\n",
        "\n",
        "# Load a pre-trained spaCy model that supports named entity recognition (NER)\n",
        "nlp = spacy.load(\"en_core_web_sm\")\n",
        "\n",
        "# Sample medical text with multiple sentences\n",
        "medical_text = [\n",
        "                \"Patient John Doe, age 45, was diagnosed with hypertension and prescribed losartan.\",\n",
        "                \"Jane Smith, 34 years old, has Diabetes and uses Insulin for treatment.\"\n",
        "                \"Robert Johnson,50 years old, suffers from asthma and uses an Inhaler.\"\n",
        "                \"Mary Brown, 28, had heart surgery for her Heart Disease.\"\n",
        "                \"David White, 60, is undergoing Chemotherapy for Cancer.\"]\n",
        "\n",
        "\n",
        "# Process the text with spaCy\n",
        "\n",
        "# Extract named entities\n",
        "\n",
        "for text in medical_text:\n",
        "      doc = nlp(text)\n",
        "      entities = [(ent.text,ent.label_) for ent in doc.ents]\n",
        "\n",
        "      if entities:\n",
        "            print(\"entities extracted from the text: \")\n",
        "            for entity, label in entities:\n",
        "                print(f\"{label}:{entity}\")\n",
        "\n"
      ]
    }
  ]
}